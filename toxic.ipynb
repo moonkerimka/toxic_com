{
 "cells": [
  {
   "cell_type": "markdown",
   "id": "3d4671aa",
   "metadata": {},
   "source": [
    "### <p style=\"font-family:JetBrains Mono; font-weight:bold; letter-spacing: 2px; color:#294B8E; font-size:140%; text-align:left; padding: 0px; border-bottom: 3px solid #294B8E\">Toxic comments</p>"
   ]
  },
  {
   "cell_type": "markdown",
   "id": "11a717ef",
   "metadata": {},
   "source": [
    "<a id=\"1.2\"></a>\n",
    "<div style=\"padding:20px;\n",
    "             color:white;\n",
    "             margin:10;\n",
    "             font-size:170%;\n",
    "             text-align:left;\n",
    "             display:fill;\n",
    "             border-radius:5px;\n",
    "             background-color:#294B8E;\n",
    "             overflow:hidden;\n",
    "             font-weight:700\"><span style='color:#CDA63A'>|</span> Content</div>"
   ]
  },
  {
   "cell_type": "markdown",
   "id": "a915f679",
   "metadata": {},
   "source": [
    "<div class=\"toc\"><ul class=\"toc-item\">\n",
    "     <li><span><a href=\"#Loading-libraries\" data-toc-modified-id=\"Loading-libraries-1\"><span class=\"toc-item-num\">1&nbsp;&nbsp;</ span>Loading libraries</a></span></li>\n",
    "     <li><span><a href=\"#EDA\" data-toc-modified-id=\"EDA-2\"><span class=\"toc-item-num\">2&nbsp;&nbsp;</span>EDA</a></span></li>\n",
    "    <li><span><a href=\"#Data-preprocessing\" data-toc-modified-id=\"Data-preprocessing-3\"><span class=\"toc-item-num\">3&nbsp;&nbsp;</span>Data preprocessing</a></span></li>\n",
    "    <li><span><a href=\"#Prepare-samples-for-training-models\" data-toc-modified-id=\"Prepare-samples-for-training-models-4\"><span class=\"toc-item-num\">4&nbsp;&nbsp;</span>Prepare samples for training models</a></span></li>\n",
    "    <li><span><a href=\"#Model-training\" data-toc-modified-id=\"Model-training-5\"><span class=\"toc-item-num\">5&nbsp;&nbsp;</span>Model training</a></span></li>"
   ]
  },
  {
   "cell_type": "markdown",
   "id": "a37d8f76",
   "metadata": {},
   "source": [
    "<a id=\"Loading-libraries\"></a>\n",
    "<div style=\"padding:20px;\n",
    "             color:white;\n",
    "             margin:10;\n",
    "             font-size:170%;\n",
    "             text-align:left;\n",
    "             display:fill;\n",
    "             border-radius:5px;\n",
    "             background-color:#294B8E;\n",
    "             overflow:hidden;\n",
    "             font-weight:700\"><span style='color:#CDA63A'>|</span> Loading libraries</div>"
   ]
  },
  {
   "cell_type": "code",
   "execution_count": 1,
   "id": "15ce7f85",
   "metadata": {},
   "outputs": [],
   "source": [
    "import nltk\n",
    "import string\n",
    "import warnings\n",
    "warnings.filterwarnings('ignore')\n",
    "import pandas as pd\n",
    "import numpy as np\n",
    "from nltk.corpus import stopwords\n",
    "from nltk.tokenize import word_tokenize\n",
    "from nltk.stem import SnowballStemmer\n",
    "from sklearn.pipeline import Pipeline\n",
    "from sklearn.model_selection import train_test_split, GridSearchCV\n",
    "from sklearn.linear_model import LogisticRegression\n",
    "from sklearn.feature_extraction.text import TfidfVectorizer\n",
    "from sklearn.feature_extraction.text import TfidfTransformer\n",
    "from sklearn.metrics import precision_score, recall_score, precision_recall_curve, plot_precision_recall_curve"
   ]
  },
  {
   "cell_type": "markdown",
   "id": "9db9a15b",
   "metadata": {},
   "source": [
    "<a id=\"EDA\"></a>\n",
    "<div style=\"padding:20px;\n",
    "             color:white;\n",
    "             margin:10;\n",
    "             font-size:170%;\n",
    "             text-align:left;\n",
    "             display:fill;\n",
    "             border-radius:5px;\n",
    "             background-color:#294B8E;\n",
    "             overflow:hidden;\n",
    "             font-weight:700\"><span style='color:#CDA63A'>|</span> EDA</div>"
   ]
  },
  {
   "cell_type": "code",
   "execution_count": 2,
   "id": "398d9913",
   "metadata": {},
   "outputs": [],
   "source": [
    "data = pd.read_csv('labeled.csv')"
   ]
  },
  {
   "cell_type": "code",
   "execution_count": 3,
   "id": "f52fedc1",
   "metadata": {},
   "outputs": [
    {
     "data": {
      "text/html": [
       "<div>\n",
       "<style scoped>\n",
       "    .dataframe tbody tr th:only-of-type {\n",
       "        vertical-align: middle;\n",
       "    }\n",
       "\n",
       "    .dataframe tbody tr th {\n",
       "        vertical-align: top;\n",
       "    }\n",
       "\n",
       "    .dataframe thead th {\n",
       "        text-align: right;\n",
       "    }\n",
       "</style>\n",
       "<table border=\"1\" class=\"dataframe\">\n",
       "  <thead>\n",
       "    <tr style=\"text-align: right;\">\n",
       "      <th></th>\n",
       "      <th>comment</th>\n",
       "      <th>toxic</th>\n",
       "    </tr>\n",
       "  </thead>\n",
       "  <tbody>\n",
       "    <tr>\n",
       "      <th>0</th>\n",
       "      <td>Верблюдов-то за что? Дебилы, бл...\\n</td>\n",
       "      <td>1.0</td>\n",
       "    </tr>\n",
       "    <tr>\n",
       "      <th>1</th>\n",
       "      <td>Хохлы, это отдушина затюканого россиянина, мол...</td>\n",
       "      <td>1.0</td>\n",
       "    </tr>\n",
       "    <tr>\n",
       "      <th>2</th>\n",
       "      <td>Собаке - собачья смерть\\n</td>\n",
       "      <td>1.0</td>\n",
       "    </tr>\n",
       "    <tr>\n",
       "      <th>3</th>\n",
       "      <td>Страницу обнови, дебил. Это тоже не оскорблени...</td>\n",
       "      <td>1.0</td>\n",
       "    </tr>\n",
       "    <tr>\n",
       "      <th>4</th>\n",
       "      <td>тебя не убедил 6-страничный пдф в том, что Скр...</td>\n",
       "      <td>1.0</td>\n",
       "    </tr>\n",
       "  </tbody>\n",
       "</table>\n",
       "</div>"
      ],
      "text/plain": [
       "                                             comment  toxic\n",
       "0               Верблюдов-то за что? Дебилы, бл...\\n    1.0\n",
       "1  Хохлы, это отдушина затюканого россиянина, мол...    1.0\n",
       "2                          Собаке - собачья смерть\\n    1.0\n",
       "3  Страницу обнови, дебил. Это тоже не оскорблени...    1.0\n",
       "4  тебя не убедил 6-страничный пдф в том, что Скр...    1.0"
      ]
     },
     "execution_count": 3,
     "metadata": {},
     "output_type": "execute_result"
    }
   ],
   "source": [
    "data.head(5)"
   ]
  },
  {
   "cell_type": "code",
   "execution_count": 4,
   "id": "2e367497",
   "metadata": {},
   "outputs": [
    {
     "data": {
      "text/plain": [
       "(14412, 2)"
      ]
     },
     "execution_count": 4,
     "metadata": {},
     "output_type": "execute_result"
    }
   ],
   "source": [
    "#dataset size\n",
    "data.shape"
   ]
  },
  {
   "cell_type": "code",
   "execution_count": 5,
   "id": "30eb3b92",
   "metadata": {
    "scrolled": true
   },
   "outputs": [
    {
     "name": "stdout",
     "output_type": "stream",
     "text": [
      "<class 'pandas.core.frame.DataFrame'>\n",
      "RangeIndex: 14412 entries, 0 to 14411\n",
      "Data columns (total 2 columns):\n",
      " #   Column   Non-Null Count  Dtype  \n",
      "---  ------   --------------  -----  \n",
      " 0   comment  14412 non-null  object \n",
      " 1   toxic    14412 non-null  float64\n",
      "dtypes: float64(1), object(1)\n",
      "memory usage: 225.3+ KB\n"
     ]
    }
   ],
   "source": [
    "data.info()"
   ]
  },
  {
   "cell_type": "markdown",
   "id": "9110e8d5",
   "metadata": {},
   "source": [
    "<a id=\"Data-preprocessing\"></a>\n",
    "<div style=\"padding:20px;\n",
    "            color:white;\n",
    "            margin:10;\n",
    "            font-size:170%;\n",
    "            text-align:left;\n",
    "            display:fill;\n",
    "            border-radius:5px;\n",
    "            background-color:#294B8E;\n",
    "            overflow:hidden;\n",
    "            font-weight:700\"><span style='color:#CDA63A'>|</span> Data preprocessing</div>"
   ]
  },
  {
   "cell_type": "code",
   "execution_count": 6,
   "id": "30ce3556",
   "metadata": {},
   "outputs": [],
   "source": [
    "data['toxic'] = data['toxic'].apply(int)"
   ]
  },
  {
   "cell_type": "code",
   "execution_count": 7,
   "id": "79dccc1c",
   "metadata": {},
   "outputs": [
    {
     "name": "stdout",
     "output_type": "stream",
     "text": [
      "<class 'pandas.core.frame.DataFrame'>\n",
      "RangeIndex: 14412 entries, 0 to 14411\n",
      "Data columns (total 2 columns):\n",
      " #   Column   Non-Null Count  Dtype \n",
      "---  ------   --------------  ----- \n",
      " 0   comment  14412 non-null  object\n",
      " 1   toxic    14412 non-null  int64 \n",
      "dtypes: int64(1), object(1)\n",
      "memory usage: 225.3+ KB\n"
     ]
    }
   ],
   "source": [
    "data.info()"
   ]
  },
  {
   "cell_type": "code",
   "execution_count": 8,
   "id": "90d5dfcc",
   "metadata": {},
   "outputs": [
    {
     "data": {
      "text/plain": [
       "0    9586\n",
       "1    4826\n",
       "Name: toxic, dtype: int64"
      ]
     },
     "execution_count": 8,
     "metadata": {},
     "output_type": "execute_result"
    }
   ],
   "source": [
    "#data distribution\n",
    "data['toxic'].value_counts() "
   ]
  },
  {
   "cell_type": "code",
   "execution_count": 9,
   "id": "8c829de4",
   "metadata": {},
   "outputs": [
    {
     "name": "stdout",
     "output_type": "stream",
     "text": [
      "Верблюдов-то за что? Дебилы, бл...\n",
      "\n",
      "Хохлы, это отдушина затюканого россиянина, мол, вон, а у хохлов еще хуже. Если бы хохлов не было, кисель их бы придумал.\n",
      "\n",
      "Собаке - собачья смерть\n",
      "\n",
      "Страницу обнови, дебил. Это тоже не оскорбление, а доказанный факт - не-дебил про себя во множественном числе писать не будет. Или мы в тебя верим - это ты и твои воображаемые друзья?\n",
      "\n",
      "тебя не убедил 6-страничный пдф в том, что Скрипалей отравила Россия? Анализировать и думать пытаешься? Ватник что ли?)\n",
      "\n"
     ]
    }
   ],
   "source": [
    "#look at the toxic comments\n",
    "for i in data[data['toxic'] == 1]['comment'].head(5):\n",
    "    print(i)"
   ]
  },
  {
   "cell_type": "code",
   "execution_count": 10,
   "id": "e192e3ff",
   "metadata": {},
   "outputs": [
    {
     "name": "stdout",
     "output_type": "stream",
     "text": [
      "В шапке были ссылки на инфу по текущему фильму марвел. Эти ссылки были заменены на фразу Репортим брипидора, игнорируем его посты. Если этого недостаточно, чтобы понять, что модератор абсолютный неадекват, и его нужно лишить полномочий, тогда эта борда пробивает абсолютное дно по неадекватности.\n",
      "\n",
      "Почитайте посты у этого автора,может найдете что нибудь полезное. Надеюсь помог) https: pikabu.ru story obyichnyie budni dezsluzhbyi 4932098\n",
      "\n",
      "Про графику было обидно) я так то проходил все серии гта со второй части по пятую, кроме гта 4. И мне не мешала графика ни в одной из частей. На компе у меня было куча видеокарт. Начиная с 32мб RIVA TNT и заканчивая 2Гб 560Ti на которой я спокойно играю который год в танки, гта5, ведьмака3 купил на распродаже и начал проходить. Да, не на ультрах. С пониженными текстурами. И не мешает. Я не понимаю дрочева на графике, требовать графику уровня плойки 4 минимум. Мне надо чтобы глаза не резало, только и всего. По поводу управления, мне не хватает переходника на type c. У меня джойстик есть от иксбокса360. Потенциала в мобильных играх достаточно чтобы забить кнопки как забивались в той же NFS MW в 2005. Не самая плохая игра была.\n",
      "\n",
      "https: pp.userapi.com c848520 v848520411 11627b cOhWqFbGjWE.jpg\n",
      "\n",
      "Возьмём как пример Россию, западноевропейские страны и США. Идёт метисация, сознательная политика замещения белого населения на пришлое черно-коричневое. Идёт создание новой расы метисов, исламизация и почернение. В крупных городах половина населения - выходцы из ебеней Мексики, Африки, Ближнего Востока, а в случае с Россией - Кавказа и Средней Азии. Этнические ниггеро-арабские гетто верят на хую законы как хотят, чудовищная по масштабам этническая преступность. Говорить о миграции и тем более затрагивать тему замещения коренного населения властями нельзя, иначе бутылка. Свобода слова тут не для вас, молодой человек. При этом говорить о том, что белые должны вымереть, и это нормально - можно. Белые официально вымирают ведётся пропаганда так или иначе направленная на снижение рождаемости белого населения. Феминизм, ЛГБТ, чайлдфри. Каждая женщина в Швеции - леволиберальная феминистка, это страна победившего феминизма. Что сегодня там происходит - страшно делается. Пропагандируются смешанные браки, межрасовые браки, пропагандируется превосходство детей-метисов. Идёт демонизация белых и пропаганда превосходства чёрных и смуглых мужчин, форс отношений белая женщина смуглый чёрный мужчина-мигрант. Как результат - всё больше чернильниц, всё больше смешанных браков, всё больше небелых метисов. Белые женщины просто не хотят контактировать с мужчинами своей нации и расы, наделяя их самыми плохими качествами и обожествляя черных. При этом большинство белых не считает завоз чурок чем-то плохим, наоборот, относятся к ним толерантно. Проводится политика насаждения толерантности, мультикультурализма, политкорректности и космополитизма. Набирающее популярность даже в России SJW - это вообще отдельная тема для обсуждения. Всё вышеперечисленное относится к сильнейшим когда-то странам, бывшим империям, нагибающим слабых. Сегодня происходит так, что бывшие империи в прямом смысле деградируют, вырождаются и вымирают, а место сильнейших когда-то, господствующих народов, занимают те, кого когда-то колонизировали. Во Франции к 2080 уже будут доминировать негры и арабы, в России - кавказцы и выходцы из средней Азии, в Великобритании - индийцы, негры, арабы, пакистанцы, etc. А в маленьких, нейтральных странах, вроде Словении или Беларуси, Литвы или Чехии, Румынии или Эстонии - всё пучком. Им вымирание не грозит, они остаются и будут оставаться белыми. Более того, у них ведётся политика, направленная на сохранение традиционных ценностей и культуры коренного населения. Они сказали беженцам нет . В Польшу, например, русскому или украинцу гораздо легче переехать и остаться, чем арабу или африканцу. В Германии ситуация противоположная, белых там не ждут. Польша, Чехия, Словакия, Венгрия, Словения, Хорватия, Сербия, БиГ, Черногория, Македония, Греция, Болгария, Румыния, Молдова, Украина, Беларусь, Литва, Латвия, Эстония - вот Европа будущего. Скандинавия, Южная, Западная Европа, а также Россия - лишатся коренного населения и своей культуры.\n",
      "\n"
     ]
    }
   ],
   "source": [
    "#look at non-toxic comments\n",
    "for i in data[data['toxic'] == 0]['comment'].head(5):\n",
    "    print(i)"
   ]
  },
  {
   "cell_type": "markdown",
   "id": "62a6c85e",
   "metadata": {},
   "source": [
    "<a id=\"Prepare-samples-for-training-models\"></a>\n",
    "<div style=\"padding:20px;\n",
    "            color:white;\n",
    "            margin:10;\n",
    "            font-size:170%;\n",
    "            text-align:left;\n",
    "            display:fill;\n",
    "            border-radius:5px;\n",
    "            background-color:#294B8E;\n",
    "            overflow:hidden;\n",
    "            font-weight:700\"><span style='color:#CDA63A'>|</span> Prepare samples for training models</div>"
   ]
  },
  {
   "cell_type": "code",
   "execution_count": 11,
   "id": "7df25226",
   "metadata": {},
   "outputs": [],
   "source": [
    "train, test = train_test_split(data, test_size=500)"
   ]
  },
  {
   "cell_type": "code",
   "execution_count": 12,
   "id": "a2292b8d",
   "metadata": {},
   "outputs": [
    {
     "data": {
      "text/plain": [
       "(500, 2)"
      ]
     },
     "execution_count": 12,
     "metadata": {},
     "output_type": "execute_result"
    }
   ],
   "source": [
    "test.shape"
   ]
  },
  {
   "cell_type": "code",
   "execution_count": 13,
   "id": "f5de50e0",
   "metadata": {},
   "outputs": [
    {
     "data": {
      "text/plain": [
       "0    9264\n",
       "1    4648\n",
       "Name: toxic, dtype: int64"
      ]
     },
     "execution_count": 13,
     "metadata": {},
     "output_type": "execute_result"
    }
   ],
   "source": [
    "train['toxic'].value_counts()"
   ]
  },
  {
   "cell_type": "code",
   "execution_count": 14,
   "id": "3bf225de",
   "metadata": {},
   "outputs": [
    {
     "data": {
      "text/plain": [
       "0    322\n",
       "1    178\n",
       "Name: toxic, dtype: int64"
      ]
     },
     "execution_count": 14,
     "metadata": {},
     "output_type": "execute_result"
    }
   ],
   "source": [
    "test['toxic'].value_counts()"
   ]
  },
  {
   "cell_type": "code",
   "execution_count": 15,
   "id": "e334884a",
   "metadata": {},
   "outputs": [],
   "source": [
    "sentence_example = data.iloc[1][\"comment\"]"
   ]
  },
  {
   "cell_type": "code",
   "execution_count": 16,
   "id": "bc466219",
   "metadata": {},
   "outputs": [],
   "source": [
    "snowball = SnowballStemmer(language='russian')\n",
    "russian_stop_words = stopwords.words('russian')\n",
    " \n",
    "def tokenize_sentence(sentence:str, remove_stop_words: bool = True):\n",
    "    tokens = word_tokenize(sentence, language = 'russian')\n",
    "    tokens = [i for i in tokens if i not in string.punctuation]\n",
    "    if remove_stop_words: \n",
    "        tokens = [i for i in tokens if i not in russian_stop_words]\n",
    "    tokens = [snowball.stem(i) for i in tokens]\n",
    "    return tokens"
   ]
  },
  {
   "cell_type": "code",
   "execution_count": 17,
   "id": "4a27041d",
   "metadata": {},
   "outputs": [],
   "source": [
    "model_pipeline = Pipeline([(\"vectorizer\", TfidfVectorizer(tokenizer=lambda x: tokenize_sentence(x, remove_stop_words=True))),\n",
    "                           (\"model\", LogisticRegression(random_state=0))])"
   ]
  },
  {
   "cell_type": "code",
   "execution_count": null,
   "id": "2ae43d60",
   "metadata": {},
   "outputs": [],
   "source": [
    "model_pipeline.fit(train['comment'], train['toxic'])"
   ]
  },
  {
   "cell_type": "code",
   "execution_count": null,
   "id": "19fdaf90",
   "metadata": {},
   "outputs": [],
   "source": [
    "model_pipeline.predict(train['comment'])"
   ]
  },
  {
   "cell_type": "code",
   "execution_count": null,
   "id": "a0b465cb",
   "metadata": {},
   "outputs": [],
   "source": [
    "precision_score(y_true=test[\"toxic\"], y_pred=model_pipeline.predict(test[\"comment\"]) )"
   ]
  },
  {
   "cell_type": "code",
   "execution_count": null,
   "id": "5a9411c9",
   "metadata": {},
   "outputs": [],
   "source": [
    "recall_score(y_true=test[\"toxic\"], y_pred=model_pipeline.predict(test[\"comment\"]) )"
   ]
  },
  {
   "cell_type": "code",
   "execution_count": null,
   "id": "bcee493a",
   "metadata": {},
   "outputs": [],
   "source": [
    "prec, rec, threshold = precision_recall_curve(y_true=test[\"toxic\"], probas_pred=model_pipeline.predict_proba(test[\"comment\"])[:, 1])"
   ]
  },
  {
   "cell_type": "code",
   "execution_count": null,
   "id": "4abd5d7c",
   "metadata": {},
   "outputs": [],
   "source": [
    "plot_precision_recall_curve(estimator=model_pipeline, X = test[\"comment\"], y = test[\"toxic\"])"
   ]
  },
  {
   "cell_type": "code",
   "execution_count": null,
   "id": "df9cb5a6",
   "metadata": {},
   "outputs": [],
   "source": [
    "np.where(prec > 0.95)"
   ]
  },
  {
   "cell_type": "code",
   "execution_count": null,
   "id": "9382d7d5",
   "metadata": {},
   "outputs": [],
   "source": [
    "threshold[313]"
   ]
  },
  {
   "cell_type": "code",
   "execution_count": null,
   "id": "f513673f",
   "metadata": {},
   "outputs": [],
   "source": [
    "precision_score(y_true=test[\"toxic\"], y_pred=model_pipeline.predict_proba(test[\"comment\"])[:, 1] > threshold[313])"
   ]
  },
  {
   "cell_type": "code",
   "execution_count": null,
   "id": "7a43c93c",
   "metadata": {},
   "outputs": [],
   "source": [
    "recall_score(y_true=test[\"toxic\"], y_pred=model_pipeline.predict_proba(test[\"comment\"])[:, 1] > threshold[313])"
   ]
  },
  {
   "cell_type": "code",
   "execution_count": null,
   "id": "6ebf3e5f",
   "metadata": {},
   "outputs": [],
   "source": [
    "grid_pipeline = Pipeline([(\"vectorizer\", TfidfVectorizer(tokenizer=lambda x: tokenize_sentence(x, remove_stop_words=True))),\n",
    "                           (\"model\", GridSearchCV(LogisticRegression(random_state=0),\n",
    "                                                 param_grid={'C': [0.1, 1, 10.]},\n",
    "                                                 cv=3,\n",
    "                                                 verbose=4))])\n"
   ]
  },
  {
   "cell_type": "code",
   "execution_count": null,
   "id": "0b0a698b",
   "metadata": {},
   "outputs": [],
   "source": [
    "grid_pipeline.fit(train[\"comment\"], train[\"toxic\"])"
   ]
  },
  {
   "cell_type": "code",
   "execution_count": null,
   "id": "6ac9ebf0",
   "metadata": {},
   "outputs": [],
   "source": [
    "model_pipeline_c_10 = Pipeline([(\"vectorizer\", TfidfVectorizer(tokenizer=lambda x: tokenize_sentence(x, remove_stop_words=True))),\n",
    "                           (\"model\", LogisticRegression(random_state=0, C=10.))])"
   ]
  },
  {
   "cell_type": "code",
   "execution_count": null,
   "id": "4083bfdc",
   "metadata": {},
   "outputs": [],
   "source": [
    "model_pipeline_c_10.fit(train[\"comment\"], train[\"toxic\"])"
   ]
  },
  {
   "cell_type": "code",
   "execution_count": null,
   "id": "ee86ab7a",
   "metadata": {},
   "outputs": [],
   "source": [
    "prec_c_10, rec_c_10, threshold_c_10 = precision_recall_curve(y_true=test[\"toxic\"], probas_pred=model_pipeline_c_10.predict_proba(test[\"comment\"])[:, 1])"
   ]
  },
  {
   "cell_type": "code",
   "execution_count": null,
   "id": "4c2573d2",
   "metadata": {},
   "outputs": [],
   "source": [
    "np.where(prec_c_10 > 0.95)"
   ]
  },
  {
   "cell_type": "code",
   "execution_count": null,
   "id": "7a532119",
   "metadata": {},
   "outputs": [],
   "source": [
    "precision_score(y_true=test[\"toxic\"], y_pred=model_pipeline_c_10.predict_proba(test[\"comment\"])[:, 1] > threshold[316])"
   ]
  },
  {
   "cell_type": "code",
   "execution_count": null,
   "id": "a3f00473",
   "metadata": {},
   "outputs": [],
   "source": [
    "recall_score(y_true=test[\"toxic\"], y_pred=model_pipeline_c_10.predict_proba(test[\"comment\"])[:, 1] > threshold[316])"
   ]
  }
 ],
 "metadata": {
  "kernelspec": {
   "display_name": "Python 3 (ipykernel)",
   "language": "python",
   "name": "python3"
  },
  "language_info": {
   "codemirror_mode": {
    "name": "ipython",
    "version": 3
   },
   "file_extension": ".py",
   "mimetype": "text/x-python",
   "name": "python",
   "nbconvert_exporter": "python",
   "pygments_lexer": "ipython3",
   "version": "3.9.13"
  }
 },
 "nbformat": 4,
 "nbformat_minor": 5
}
